{
  "cells": [
    {
      "cell_type": "code",
      "execution_count": 23,
      "metadata": {
        "pycharm": {
          "is_executing": false,
          "metadata": false,
          "name": "#%%\n"
        }
      },
      "outputs": [
        {
          "data": {
            "text/plain": "207572"
          },
          "metadata": {},
          "output_type": "execute_result",
          "execution_count": 23
        }
      ],
      "source": "import math\nimport numpy as np\nimport os\n%matplotlib inline\nimport matplotlib.pyplot as plt\n\ncover_dir \u003d \u0027data/covers\u0027\ncover_paths \u003d os.listdir(cover_dir)\nlen(cover_paths)\n"
    },
    {
      "cell_type": "code",
      "execution_count": 15,
      "outputs": [
        {
          "name": "stdout",
          "text": [
            "[\u0027000195850X.jpe\u0027, \u0027000215949X.jpe\u0027, \u0027000217068X.jpe\u0027, \u0027000255206X.jpe\u0027, \u0027000255268X.jpe\u0027, \u0027000255710X.jpe\u0027, \u0027000414077X.jpe\u0027, \u0027000472514X.jpe\u0027, \u0027000638692X.jpe\u0027, \u0027000638871X.jpe\u0027]\n"
          ],
          "output_type": "stream"
        }
      ],
      "source": "cover_paths.sort()\nprint(cover_paths[:10])\n",
      "metadata": {
        "pycharm": {
          "metadata": false,
          "name": "#%%\n",
          "is_executing": false
        }
      }
    },
    {
      "cell_type": "code",
      "execution_count": 16,
      "outputs": [],
      "source": "from PIL import Image\ndef load_images(data_root, image_paths, target_size):\n    images \u003d []\n    for img_path in image_paths:\n        path \u003d os.path.join(data_root, img_path)\n        img \u003d Image.open(path)\n        img \u003d img.resize(target_size)\n        images.append(np.array(img))\n    return images\n",
      "metadata": {
        "pycharm": {
          "metadata": false,
          "name": "#%%\n",
          "is_executing": false
        }
      }
    },
    {
      "cell_type": "code",
      "execution_count": null,
      "outputs": [],
      "source": "n_imgs \u003d 1000\ntarget_size \u003d (200, 200)\n\n# we can\u0027t load many images this way\ncover_images \u003d load_images(cover_dir, cover_paths[:n_imgs], target_size)\nlen(cover_images)\n",
      "metadata": {
        "pycharm": {
          "metadata": false,
          "name": "#%%\n",
          "is_executing": true
        }
      }
    },
    {
      "cell_type": "code",
      "execution_count": 25,
      "outputs": [
        {
          "data": {
            "text/plain": "(900, 100)"
          },
          "metadata": {},
          "output_type": "execute_result",
          "execution_count": 25
        }
      ],
      "source": "# shuffle\nnp.random.shuffle(cover_images)\n\n# set aside 10% for testing\nn_test \u003d math.floor(len(cover_images) * 0.1)\ncovers_train \u003d cover_images[n_test:]\ncovers_test \u003d cover_images[:n_test]\nlen(covers_train), len(covers_test)",
      "metadata": {
        "pycharm": {
          "metadata": false,
          "name": "#%%\n",
          "is_executing": false
        }
      }
    }
  ],
  "metadata": {
    "kernelspec": {
      "display_name": "Python 3",
      "language": "python",
      "name": "python3"
    },
    "language_info": {
      "codemirror_mode": {
        "name": "ipython",
        "version": 3
      },
      "file_extension": ".py",
      "mimetype": "text/x-python",
      "name": "python",
      "nbconvert_exporter": "python",
      "pygments_lexer": "ipython3",
      "version": "3.7.2"
    },
    "stem_cell": {
      "cell_type": "raw",
      "source": "",
      "metadata": {
        "pycharm": {
          "metadata": false
        }
      }
    }
  },
  "nbformat": 4,
  "nbformat_minor": 1
}